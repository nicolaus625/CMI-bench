# %matplotlib inline

import numpy as np
import matplotlib.pyplot as plt
from sklearn.decomposition import PCA, FastICA
from sklearn.preprocessing import StandardScaler
from scipy.stats import kurtosis

# Step 1: Paste your benchmark data here
data_str = """
7.77 -0.4846 -0.5295 66.78 19.15 64.44 9.23 60.89 7.85 58.9 12.41 64.64 16.54 62.41 14.82 37.62 1.51 23.4 23.21 28.47 87.44 14.76 12.47 12.35 84.38 792.99 818.59 7.5 5.97 7.12 5.69 5.06 3.18 0.89
6.35 -0.1311 -0.1214 66 16.99 66.39 8.07 59.06 6.09 56.95 11.35 0 0 73.79 13.86 4.13 0.37 11.95 9.35 12.35 84.79 2.98 5.55 6.68 82.37 115.72 96.17 23.69 10.21 21.96 10.68 0.08 1.66 0.44
6.34 -1.0408 -1.0408 59.07 15.08 57.71 5.62 50.69 3.65 48.78 7.44 53.46 9.49 30.34 2.63 0.15 0 16.41 18.45 28.12 86.68 1.23 4.6 6.26 82.98 816.06 760 11.49 8.62 14.97 9.4 0 0.03 0.01
0.3 -0.2421 -0.1524 63.39 12.25 57.48 4.99 53.07 3.95 55.63 9.24 57.58 9.68 2.41 2.37 0 0 8.14 14.32 30.15 85.28 21.5 22.49 30.29 85.75 2019.25 2310.5 0.04 0.18 0.01 0.06 0 0 0
7.57 -0.9626 -1.0454 65.75 17.78 52.22 3.62 51.41 3.98 55.34 10.98 53.86 8.3 1.03 0 0.49 0.73 11.54 8.51 9.33 84.44 5.24 8.55 9.39 83.84 235.5 210.79 0.1 0.86 0.15 2.29 0 0.04 0.01
6.96 -0.3306 -0.3115 65.83 15.72 57.14 4.98 52.02 3.72 53.02 8.9 54.11 8.67 9.31 1.49 6.88 0.05 9.72 7.49 9.42 83.62 4.22 7.01 7.51 83.59 191.68 185.51 0 0 0 0 0 0 0
7.69 -0.328 -0.2933 68.32 18.65 57.36 4.97 54.4 4.35 50.81 8.24 54.88 9.11 14.48 10.26 0 0 15.55 13.89 15.28 86.38 3.48 8.01 8.58 83 191.88 168.32 0.71 0.17 0.22 0.15 0 0 0
8.55 -1.1628 -1.1698 68.68 20.16 62.83 6.85 55.8 4.6 56.99 10.71 60.96 12.16 50.34 8.16 15.8 0.73 15.14 11.81 12.92 85.75 2.25 5.97 6.94 83.43 275.69 262.61 3.96 3.06 4.69 3.47 0.01 0 0
7.68 -0.8398 -0.8114 81.21 34.26 52.5 3.9 51.97 4.07 51.15 9.01 52.01 8.1 10.34 15.18 58.37 0.2 15.96 13.81 18.35 85.89 7.57 10.07 11.38 84.3 225.39 201.31 0 0.05 0.02 0.14 0.66 0 0
5.54 0.0828 -0.0216 78.32 27.53 62.49 6.01 58.84 5.27 55.16 10.69 60.68 11.72 45.52 9.39 39.36 0 20.93 16.41 20.07 86.21 14.53 10.98 12.46 84.57 152.58 165.23 1.49 0.54 1.02 0.68 0 0 0
0 -0.1054 -0.1049 66.75 17.82 58.23 5.47 53.88 3.93 56.09 9.36 57.22 10.19 14.14 0 42.26 5.74 15.47 9.98 11.45 82.9 16.52 14.77 12.64 83.22 343.19 368.01 0 0 0 0 0 0 0
"""

# Step 2: Parse data into numpy array
data = np.array([[float(x) for x in line.split()] for line in data_str.strip().split("\n")])

# Step 3: Standardize the data
scaler = StandardScaler()
data_std = scaler.fit_transform(data)

# Step 4: Apply PCA
pca = PCA(n_components=11)
pca_result = pca.fit_transform(data_std)
explained_var = pca.explained_variance_ratio_

# Step 5: Apply ICA
ica = FastICA(n_components=5, random_state=0)
ica_result = ica.fit_transform(data_std)

# Step 6: Plot PCA and ICA
fig, axs = plt.subplots(1, 2, figsize=(12, 5))

axs[0].scatter(pca_result[:, 0], pca_result[:, 1], color='blue')
axs[0].set_title(f'PCA (Explained: {explained_var[0]:.2f}, {explained_var[1]:.2f})')
axs[0].set_xlabel('PC1')
axs[0].set_ylabel('PC2')

axs[1].scatter(ica_result[:, 0], ica_result[:, 1], color='green')
axs[1].set_title(f'ICA (Kurtosis: {kurtosis(ica_result[:,0]):.2f}, {kurtosis(ica_result[:,1]):.2f})')
axs[1].set_xlabel('IC1')
axs[1].set_ylabel('IC2')

plt.tight_layout()
plt.show()
